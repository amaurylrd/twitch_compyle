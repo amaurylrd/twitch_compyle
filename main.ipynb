{
 "cells": [
  {
   "cell_type": "code",
   "execution_count": 2,
   "metadata": {},
   "outputs": [
    {
     "name": "stdout",
     "output_type": "stream",
     "text": [
      "Moviepy - Building video __temp__.mp4.\n",
      "MoviePy - Writing audio in __temp__TEMP_MPY_wvf_snd.mp3\n"
     ]
    },
    {
     "name": "stderr",
     "output_type": "stream",
     "text": [
      "                                                                      \r"
     ]
    },
    {
     "name": "stdout",
     "output_type": "stream",
     "text": [
      "MoviePy - Done.\n",
      "Moviepy - Writing video __temp__.mp4\n",
      "\n"
     ]
    },
    {
     "name": "stderr",
     "output_type": "stream",
     "text": [
      "                                                                \r"
     ]
    },
    {
     "name": "stdout",
     "output_type": "stream",
     "text": [
      "Moviepy - Done !\n",
      "Moviepy - video ready __temp__.mp4\n"
     ]
    },
    {
     "ename": "ValueError",
     "evalue": "The duration of video __temp__.mp4 (124.0) exceeds the 'maxduration' attribute. You can increase 'maxduration', by passing 'maxduration' parameterto ipython_display function.But note that embedding large videos may take all the memory away !",
     "output_type": "error",
     "traceback": [
      "\u001b[1;31m---------------------------------------------------------------------------\u001b[0m",
      "\u001b[1;31mValueError\u001b[0m                                Traceback (most recent call last)",
      "Cell \u001b[1;32mIn[2], line 19\u001b[0m\n\u001b[0;32m     16\u001b[0m     videoclips\u001b[39m.\u001b[39mappend(subclip)\n\u001b[0;32m     18\u001b[0m videoclip \u001b[39m=\u001b[39m concatenate_videoclips(videoclips)\n\u001b[1;32m---> 19\u001b[0m videoclip\u001b[39m.\u001b[39;49mipython_display()\n",
      "File \u001b[1;32mc:\\Users\\amaur\\twitch_compyle\\.venv\\lib\\site-packages\\moviepy\\video\\io\\html_tools.py:220\u001b[0m, in \u001b[0;36mipython_display\u001b[1;34m(clip, filetype, maxduration, t, fps, rd_kwargs, center, **html_kwargs)\u001b[0m\n\u001b[0;32m    217\u001b[0m \u001b[39mif\u001b[39;00m t \u001b[39mis\u001b[39;00m \u001b[39mnot\u001b[39;00m \u001b[39mNone\u001b[39;00m:\n\u001b[0;32m    218\u001b[0m     clip \u001b[39m=\u001b[39m clip\u001b[39m.\u001b[39mto_ImageClip(t)\n\u001b[1;32m--> 220\u001b[0m \u001b[39mreturn\u001b[39;00m HTML2(html_embed(clip, filetype\u001b[39m=\u001b[39mfiletype, maxduration\u001b[39m=\u001b[39mmaxduration,\n\u001b[0;32m    221\u001b[0m             center\u001b[39m=\u001b[39mcenter, rd_kwargs\u001b[39m=\u001b[39mrd_kwargs, \u001b[39m*\u001b[39m\u001b[39m*\u001b[39mhtml_kwargs))\n",
      "File \u001b[1;32mc:\\Users\\amaur\\twitch_compyle\\.venv\\lib\\site-packages\\moviepy\\video\\io\\html_tools.py:107\u001b[0m, in \u001b[0;36mhtml_embed\u001b[1;34m(clip, filetype, maxduration, rd_kwargs, center, **html_kwargs)\u001b[0m\n\u001b[0;32m    104\u001b[0m     \u001b[39melse\u001b[39;00m:\n\u001b[0;32m    105\u001b[0m       \u001b[39mraise\u001b[39;00m \u001b[39mValueError\u001b[39;00m(\u001b[39m\"\u001b[39m\u001b[39mUnknown class for the clip. Cannot embed and preview.\u001b[39m\u001b[39m\"\u001b[39m)\n\u001b[1;32m--> 107\u001b[0m     \u001b[39mreturn\u001b[39;00m html_embed(filename, maxduration\u001b[39m=\u001b[39mmaxduration, rd_kwargs\u001b[39m=\u001b[39mrd_kwargs,\n\u001b[0;32m    108\u001b[0m                        center\u001b[39m=\u001b[39mcenter, \u001b[39m*\u001b[39m\u001b[39m*\u001b[39mhtml_kwargs)\n\u001b[0;32m    110\u001b[0m filename \u001b[39m=\u001b[39m clip\n\u001b[0;32m    111\u001b[0m options \u001b[39m=\u001b[39m \u001b[39m\"\u001b[39m\u001b[39m \u001b[39m\u001b[39m\"\u001b[39m\u001b[39m.\u001b[39mjoin([\u001b[39m\"\u001b[39m\u001b[39m%s\u001b[39;00m\u001b[39m=\u001b[39m\u001b[39m'\u001b[39m\u001b[39m%s\u001b[39;00m\u001b[39m'\u001b[39m\u001b[39m\"\u001b[39m\u001b[39m%\u001b[39m(\u001b[39mstr\u001b[39m(k), \u001b[39mstr\u001b[39m(v)) \u001b[39mfor\u001b[39;00m k,v \u001b[39min\u001b[39;00m html_kwargs\u001b[39m.\u001b[39mitems()])\n",
      "File \u001b[1;32mc:\\Users\\amaur\\twitch_compyle\\.venv\\lib\\site-packages\\moviepy\\video\\io\\html_tools.py:142\u001b[0m, in \u001b[0;36mhtml_embed\u001b[1;34m(clip, filetype, maxduration, rd_kwargs, center, **html_kwargs)\u001b[0m\n\u001b[0;32m    140\u001b[0m     duration \u001b[39m=\u001b[39m ffmpeg_parse_infos(filename)[\u001b[39m'\u001b[39m\u001b[39mduration\u001b[39m\u001b[39m'\u001b[39m]\n\u001b[0;32m    141\u001b[0m     \u001b[39mif\u001b[39;00m duration \u001b[39m>\u001b[39m maxduration:\n\u001b[1;32m--> 142\u001b[0m         \u001b[39mraise\u001b[39;00m \u001b[39mValueError\u001b[39;00m(\u001b[39m\"\u001b[39m\u001b[39mThe duration of video \u001b[39m\u001b[39m%s\u001b[39;00m\u001b[39m (\u001b[39m\u001b[39m%.1f\u001b[39;00m\u001b[39m) exceeds the \u001b[39m\u001b[39m'\u001b[39m\u001b[39mmaxduration\u001b[39m\u001b[39m'\u001b[39m\u001b[39m \u001b[39m\u001b[39m\"\u001b[39m\u001b[39m%\u001b[39m(filename, duration)\u001b[39m+\u001b[39m\n\u001b[0;32m    143\u001b[0m                          \u001b[39m\"\u001b[39m\u001b[39mattribute. You can increase \u001b[39m\u001b[39m'\u001b[39m\u001b[39mmaxduration\u001b[39m\u001b[39m'\u001b[39m\u001b[39m, by passing \u001b[39m\u001b[39m'\u001b[39m\u001b[39mmaxduration\u001b[39m\u001b[39m'\u001b[39m\u001b[39m parameter\u001b[39m\u001b[39m\"\u001b[39m\n\u001b[0;32m    144\u001b[0m                          \u001b[39m\"\u001b[39m\u001b[39mto ipython_display function.\u001b[39m\u001b[39m\"\u001b[39m\n\u001b[0;32m    145\u001b[0m                          \u001b[39m\"\u001b[39m\u001b[39mBut note that embedding large videos may take all the memory away !\u001b[39m\u001b[39m\"\u001b[39m)\n\u001b[0;32m    147\u001b[0m \u001b[39mwith\u001b[39;00m \u001b[39mopen\u001b[39m(filename, \u001b[39m\"\u001b[39m\u001b[39mrb\u001b[39m\u001b[39m\"\u001b[39m) \u001b[39mas\u001b[39;00m f:\n\u001b[0;32m    148\u001b[0m     data\u001b[39m=\u001b[39m b64encode(f\u001b[39m.\u001b[39mread())\u001b[39m.\u001b[39mdecode(\u001b[39m\"\u001b[39m\u001b[39mutf-8\u001b[39m\u001b[39m\"\u001b[39m)\n",
      "\u001b[1;31mValueError\u001b[0m: The duration of video __temp__.mp4 (124.0) exceeds the 'maxduration' attribute. You can increase 'maxduration', by passing 'maxduration' parameterto ipython_display function.But note that embedding large videos may take all the memory away !"
     ]
    }
   ],
   "source": [
    "import os.path\n",
    "from moviepy.editor import *\n",
    "\n",
    "videoclips = []\n",
    "videofile = \"C:\\\\Users\\\\amaur\\\\Videos\\\\2021-03-22 00-49-34.mkv\"\n",
    "\n",
    "if os.path.isfile(videofile):\n",
    "    videoclip = VideoFileClip(videofile)\n",
    "    subclip_duration = videoclip.duration // 4\n",
    "    \n",
    "    for i in range(4):\n",
    "        start = i * subclip_duration\n",
    "        end = start + subclip_duration \n",
    "        subclip = videoclip.subclip(start, end)\n",
    "        \n",
    "        videoclips.append(subclip)\n",
    "    \n",
    "    videoclip = concatenate_videoclips(videoclips)\n",
    "    videoclip.ipython_display()"
   ]
  }
 ],
 "metadata": {
  "kernelspec": {
   "display_name": "Python 3.10.2 ('.venv': poetry)",
   "language": "python",
   "name": "python3"
  },
  "language_info": {
   "codemirror_mode": {
    "name": "ipython",
    "version": 3
   },
   "file_extension": ".py",
   "mimetype": "text/x-python",
   "name": "python",
   "nbconvert_exporter": "python",
   "pygments_lexer": "ipython3",
   "version": "3.10.2"
  },
  "orig_nbformat": 4,
  "vscode": {
   "interpreter": {
    "hash": "e005ae8e419a79daf788c286030e3bbcc8fcf883408be3c2512d81c7fd3d7e8c"
   }
  }
 },
 "nbformat": 4,
 "nbformat_minor": 2
}
